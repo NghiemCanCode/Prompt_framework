{
 "cells": [
  {
   "metadata": {
    "ExecuteTime": {
     "end_time": "2024-12-27T06:15:52.400230Z",
     "start_time": "2024-12-27T06:15:52.396212Z"
    }
   },
   "cell_type": "code",
   "source": [
    "label_list = [\"HATE\", \"OFFENSIVE\", \"CLEAN\"]\n",
    "\n",
    "LINK_PROMPT_RS = \"response/chain-of-thought/openai\"\n"
   ],
   "id": "1ff1f901fedca2b",
   "outputs": [],
   "execution_count": 18
  },
  {
   "metadata": {
    "ExecuteTime": {
     "end_time": "2024-12-27T06:16:09.291302Z",
     "start_time": "2024-12-27T06:16:09.284969Z"
    }
   },
   "cell_type": "code",
   "source": [
    "import os\n",
    "\n",
    "result_list = []\n",
    "\n",
    "for i in range(len(os.listdir(LINK_PROMPT_RS))):\n",
    "    with open(os.path.join(LINK_PROMPT_RS, str(i) + \".txt\"), \"r\", encoding=\"utf-8\") as f:\n",
    "        data = f.read()\n",
    "        data = data[:-2]\n",
    "\n",
    "        temp_label = -1\n",
    "\n",
    "        for label in label_list:\n",
    "            if data.endswith(label):\n",
    "                temp_label = label_list.index(label)\n",
    "                continue\n",
    "\n",
    "        result_list.append(temp_label)\n"
   ],
   "id": "71cccbda231b66af",
   "outputs": [],
   "execution_count": 21
  },
  {
   "metadata": {
    "ExecuteTime": {
     "end_time": "2024-12-27T06:16:18.947121Z",
     "start_time": "2024-12-27T06:16:18.942545Z"
    }
   },
   "cell_type": "code",
   "source": [
    "check_list = [index for index, value in enumerate(result_list) if value == -1]\n",
    "if len(check_list) == 0:\n",
    "    print(\"There is not error!\")\n",
    "else:\n",
    "    print(check_list)"
   ],
   "id": "fc40788c2a2b1139",
   "outputs": [
    {
     "name": "stdout",
     "output_type": "stream",
     "text": [
      "There is not error!\n"
     ]
    }
   ],
   "execution_count": 23
  },
  {
   "metadata": {
    "ExecuteTime": {
     "end_time": "2024-12-27T06:16:20.517039Z",
     "start_time": "2024-12-27T06:16:20.510613Z"
    }
   },
   "cell_type": "code",
   "source": [
    "DATA_PATH = \"data/test.csv\"\n",
    "\n",
    "from text_processing import read_data\n",
    "\n",
    "_, labels = read_data(DATA_PATH)"
   ],
   "id": "9e269bda0a912ec2",
   "outputs": [],
   "execution_count": 24
  },
  {
   "metadata": {
    "ExecuteTime": {
     "end_time": "2024-12-27T06:16:21.899192Z",
     "start_time": "2024-12-27T06:16:21.893402Z"
    }
   },
   "cell_type": "code",
   "source": [
    "from sklearn.metrics import accuracy_score\n",
    "\n",
    "accuracy_score(labels, result_list)"
   ],
   "id": "d963873a5bddcb9c",
   "outputs": [
    {
     "data": {
      "text/plain": [
       "0.6"
      ]
     },
     "execution_count": 25,
     "metadata": {},
     "output_type": "execute_result"
    }
   ],
   "execution_count": 25
  }
 ],
 "metadata": {
  "kernelspec": {
   "display_name": "Python 3",
   "language": "python",
   "name": "python3"
  },
  "language_info": {
   "codemirror_mode": {
    "name": "ipython",
    "version": 2
   },
   "file_extension": ".py",
   "mimetype": "text/x-python",
   "name": "python",
   "nbconvert_exporter": "python",
   "pygments_lexer": "ipython2",
   "version": "2.7.6"
  }
 },
 "nbformat": 4,
 "nbformat_minor": 5
}
